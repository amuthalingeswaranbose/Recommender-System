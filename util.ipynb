{
  "nbformat": 4,
  "nbformat_minor": 0,
  "metadata": {
    "colab": {
      "name": "util.ipynb",
      "version": "0.3.2",
      "provenance": [],
      "collapsed_sections": [],
      "include_colab_link": true
    },
    "kernelspec": {
      "name": "python2",
      "display_name": "Python 2"
    }
  },
  "cells": [
    {
      "cell_type": "markdown",
      "metadata": {
        "id": "view-in-github",
        "colab_type": "text"
      },
      "source": [
        "<a href=\"https://colab.research.google.com/github/amuthalingeswaranbose/Recommender-System/blob/master/util.ipynb\" target=\"_parent\"><img src=\"https://colab.research.google.com/assets/colab-badge.svg\" alt=\"Open In Colab\"/></a>"
      ]
    },
    {
      "metadata": {
        "id": "baVFi-Pud1mI",
        "colab_type": "code",
        "colab": {}
      },
      "cell_type": "code",
      "source": [
        "\n",
        "'''\n",
        "Created on Dec 8, 2015\n",
        "@author: donghyun\n",
        "'''\n",
        "import numpy as np\n",
        "\n",
        "\n",
        "def eval_RMSE(R, U, V, TS):\n",
        "    num_user = U.shape[0]\n",
        "    sub_rmse = np.zeros(num_user)\n",
        "    TS_count = 0\n",
        "    for i in xrange(num_user):\n",
        "        idx_item = TS[i]\n",
        "        if len(idx_item) == 0:\n",
        "            continue\n",
        "        TS_count = TS_count + len(idx_item)\n",
        "        approx_R_i = U[i].dot(V[idx_item].T)  # approx_R[i, idx_item]\n",
        "        R_i = R[i]\n",
        "\n",
        "        sub_rmse[i] = np.square(approx_R_i - R_i).sum()\n",
        "\n",
        "    rmse = np.sqrt(sub_rmse.sum() / TS_count)\n",
        "\n",
        "    return rmse\n",
        "\n",
        "\n",
        "def make_CDL_format(X_base, path):\n",
        "    max_X = X_base.max(1).toarray()\n",
        "    for i in xrange(max_X.shape[0]):\n",
        "        if max_X[i, 0] == 0:\n",
        "            max_X[i, 0] = 1\n",
        "    max_X_rep = np.tile(max_X, (1, X_base.shape[1]))\n",
        "    X_nor = X_base / max_X_rep\n",
        "    np.savetxt(path + '/mult_nor.dat', X_nor, fmt='%.5f')"
      ],
      "execution_count": 0,
      "outputs": []
    }
  ]
}